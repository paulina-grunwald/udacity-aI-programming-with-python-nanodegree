{
 "cells": [
  {
   "cell_type": "code",
   "execution_count": 3,
   "id": "caf9422c-87b2-4a55-a632-2fa2092b80f9",
   "metadata": {},
   "outputs": [
    {
     "name": "stdout",
     "output_type": "stream",
     "text": [
      "10\n"
     ]
    }
   ],
   "source": [
    "x=4\n",
    "y=7\n",
    "z=0\n",
    "if x<y:\n",
    "    z+=10\n",
    "print(z)"
   ]
  },
  {
   "cell_type": "code",
   "execution_count": 4,
   "id": "b5dcf123-7bb2-4f91-bbee-1d4907346675",
   "metadata": {},
   "outputs": [
    {
     "name": "stdout",
     "output_type": "stream",
     "text": [
      "Congratulations! You won a wafer-thin mint!\n"
     ]
    }
   ],
   "source": [
    "points = 174  # use this input to make your submission\n",
    "prize = \"\"\n",
    "\n",
    "# write your if statement here\n",
    "if points  >=1 and points <=51:\n",
    "    prize = \"wooden rabbit\"\n",
    "elif points >= 51 and points <=150:\n",
    "    prize = \"no prize\"\n",
    "elif points >= 151 and points <=180:\n",
    "    prize=\"wafer-thin mint\"\n",
    "else:\n",
    "    prize=\"penguin\"\n",
    "\n",
    "result = \"Congratulations! You won a {}!\".format(prize)\n",
    "print(result)"
   ]
  },
  {
   "cell_type": "code",
   "execution_count": 5,
   "id": "34a7a53a-f3ee-4a81-a922-f8be7098244f",
   "metadata": {},
   "outputs": [],
   "source": []
  },
  {
   "cell_type": "code",
   "execution_count": 6,
   "id": "3e1b13c3-fd85-4af4-8e9e-73624b7d7e7b",
   "metadata": {},
   "outputs": [
    {
     "name": "stdout",
     "output_type": "stream",
     "text": [
      "The weather is cold and rainy!\n"
     ]
    }
   ],
   "source": [
    "# Boolean Expressions for Conditions\n",
    "\n",
    "temperature = 15\n",
    "is_raining = True\n",
    "\n",
    "if temperature <=15 and is_raining:\n",
    "    print(\"The weather is cold and rainy!\")\n",
    "elif temperature <=15 and not is_raining:\n",
    "    print(\"The weather is cold but it does not rain!\")"
   ]
  },
  {
   "cell_type": "code",
   "execution_count": null,
   "id": "3b3f2a94-a9ce-4918-9045-3dc86758efbc",
   "metadata": {},
   "outputs": [],
   "source": []
  }
 ],
 "metadata": {
  "kernelspec": {
   "display_name": "Python 3 (ipykernel)",
   "language": "python",
   "name": "python3"
  },
  "language_info": {
   "codemirror_mode": {
    "name": "ipython",
    "version": 3
   },
   "file_extension": ".py",
   "mimetype": "text/x-python",
   "name": "python",
   "nbconvert_exporter": "python",
   "pygments_lexer": "ipython3",
   "version": "3.12.1"
  }
 },
 "nbformat": 4,
 "nbformat_minor": 5
}
