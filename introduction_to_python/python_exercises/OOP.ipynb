{
 "cells": [
  {
   "cell_type": "code",
   "execution_count": 13,
   "id": "653c4744",
   "metadata": {},
   "outputs": [],
   "source": [
    "class Dog:\n",
    "\n",
    "    def __init__(self, breed, age, name, color):\n",
    "        self.breed = breed\n",
    "        self.age = age\n",
    "        self.name = name\n",
    "        self.color = color\n",
    "\n",
    "    def get_name(self):\n",
    "      return self.name\n",
    "\n",
    "    "
   ]
  },
  {
   "cell_type": "code",
   "execution_count": 14,
   "id": "1b29cb95",
   "metadata": {},
   "outputs": [
    {
     "name": "stdout",
     "output_type": "stream",
     "text": [
      "Haru\n"
     ]
    }
   ],
   "source": [
    "dog = Dog('australian shephard', 4, 'Haru', 'blue merle' )\n",
    "print(dog.get_name())\n"
   ]
  },
  {
   "cell_type": "code",
   "execution_count": 1,
   "id": "16879b5f",
   "metadata": {},
   "outputs": [
    {
     "name": "stdout",
     "output_type": "stream",
     "text": [
      "Hello, my name is Michael and I am 24 years old.\n"
     ]
    }
   ],
   "source": [
    "class Person:\n",
    "    def __init__(self, name, age):\n",
    "        self.name = name\n",
    "        self.age = age\n",
    "\n",
    "    def greet(self):\n",
    "        print(f\"Hello, my name is {self.name} and I am {self.age} years old.\")\n",
    "\n",
    "person = Person('Michael', 24)\n",
    "person.greet()"
   ]
  },
  {
   "cell_type": "code",
   "execution_count": null,
   "id": "ab085a86",
   "metadata": {},
   "outputs": [],
   "source": []
  }
 ],
 "metadata": {
  "kernelspec": {
   "display_name": "Python 3 (ipykernel)",
   "language": "python",
   "name": "python3"
  },
  "language_info": {
   "codemirror_mode": {
    "name": "ipython",
    "version": 3
   },
   "file_extension": ".py",
   "mimetype": "text/x-python",
   "name": "python",
   "nbconvert_exporter": "python",
   "pygments_lexer": "ipython3",
   "version": "3.11.5"
  }
 },
 "nbformat": 4,
 "nbformat_minor": 5
}
