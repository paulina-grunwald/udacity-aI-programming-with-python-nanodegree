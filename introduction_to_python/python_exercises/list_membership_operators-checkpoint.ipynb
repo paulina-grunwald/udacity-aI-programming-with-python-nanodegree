{
 "cells": [
  {
   "cell_type": "code",
   "execution_count": 9,
   "id": "e40fa4ac-c10b-4e1e-bd0f-7504742cd34c",
   "metadata": {},
   "outputs": [],
   "source": [
    "#List and Membership Operators"
   ]
  },
  {
   "cell_type": "code",
   "execution_count": 15,
   "id": "aa5c51f2-0326-4d81-b44e-2036e66b0a23",
   "metadata": {},
   "outputs": [
    {
     "name": "stdout",
     "output_type": "stream",
     "text": [
      "apple\n",
      "pear\n",
      "3\n"
     ]
    }
   ],
   "source": [
    "#Lists\n",
    "fruits = ['apple', 'pear', 'banana']\n",
    "print(fruits[0])\n",
    "print(fruits[1])\n",
    "print(len(fruits))"
   ]
  },
  {
   "cell_type": "code",
   "execution_count": 17,
   "id": "239c903a-e5e4-40b4-ab77-559538108160",
   "metadata": {},
   "outputs": [
    {
     "name": "stdout",
     "output_type": "stream",
     "text": [
      "[2]\n",
      "[1, 2]\n",
      "[2, 3, 'weather', False]\n",
      "weather\n"
     ]
    }
   ],
   "source": [
    "#Slice and Dice with Lists\n",
    "random_list = [1,2,3, \"weather\", False]\n",
    "print(random_list[1:2])\n",
    "print(random_list[:2])\n",
    "print(random_list[1:])\n",
    "print(random_list[-2])"
   ]
  },
  {
   "cell_type": "code",
   "execution_count": 14,
   "id": "de9184a1-b951-4402-ac20-6f10d828a540",
   "metadata": {},
   "outputs": [
    {
     "name": "stdout",
     "output_type": "stream",
     "text": [
      "True\n",
      "True\n"
     ]
    }
   ],
   "source": [
    "#Checking if item is in a list\n",
    "print(1 in random_list)\n",
    "print(5 not in random_list)"
   ]
  },
  {
   "cell_type": "code",
   "execution_count": 9,
   "id": "2e367769-d456-4536-9dbd-4537f190cfbb",
   "metadata": {},
   "outputs": [
    {
     "name": "stdout",
     "output_type": "stream",
     "text": [
      "[1]\n",
      "[1, 'apple', 'dog']\n",
      "[1, 'CAT', 'apple', 'dog']\n"
     ]
    }
   ],
   "source": [
    "#append()\n",
    "my_list=[]\n",
    "my_list.append(1)\n",
    "print(my_list)\n",
    "my_list.extend(['apple', 'dog'])\n",
    "print(my_list)\n",
    "my_list.insert(1,'CAT')\n",
    "print(my_list)"
   ]
  },
  {
   "cell_type": "code",
   "execution_count": 10,
   "id": "27dd1aae-0f61-4c5e-ab68-5edcea0f6db9",
   "metadata": {},
   "outputs": [
    {
     "name": "stdout",
     "output_type": "stream",
     "text": [
      "['CAT', 'apple', 'dog']\n"
     ]
    }
   ],
   "source": [
    "#remove()\n",
    "print(my_list.remove(1))"
   ]
  },
  {
   "cell_type": "code",
   "execution_count": 12,
   "id": "942a2e30-a76c-4ea0-9c1a-98ade7adfd71",
   "metadata": {},
   "outputs": [
    {
     "name": "stdout",
     "output_type": "stream",
     "text": [
      "dog\n"
     ]
    }
   ],
   "source": [
    "#pop()\n",
    "print(my_list.pop())"
   ]
  },
  {
   "cell_type": "code",
   "execution_count": null,
   "id": "06b8cf90-8cab-48ce-9c08-e67f743b58d0",
   "metadata": {},
   "outputs": [],
   "source": [
    "#slice"
   ]
  },
  {
   "cell_type": "code",
   "execution_count": null,
   "id": "21f39d07-dd04-4fc3-9134-d691b98e1c4d",
   "metadata": {},
   "outputs": [],
   "source": []
  },
  {
   "cell_type": "code",
   "execution_count": 14,
   "id": "8aa523c3-151c-49fe-944f-9e90fb5501f6",
   "metadata": {},
   "outputs": [
    {
     "name": "stdout",
     "output_type": "stream",
     "text": [
      "H\n"
     ]
    }
   ],
   "source": [
    "greeting = \"Hello there\"\n",
    "print(greeting[0])"
   ]
  },
  {
   "cell_type": "code",
   "execution_count": null,
   "id": "efc29fa8-f236-4a4c-bf2c-f7042f9be82d",
   "metadata": {},
   "outputs": [],
   "source": []
  }
 ],
 "metadata": {
  "kernelspec": {
   "display_name": "Python 3 (ipykernel)",
   "language": "python",
   "name": "python3"
  },
  "language_info": {
   "codemirror_mode": {
    "name": "ipython",
    "version": 3
   },
   "file_extension": ".py",
   "mimetype": "text/x-python",
   "name": "python",
   "nbconvert_exporter": "python",
   "pygments_lexer": "ipython3",
   "version": "3.12.1"
  }
 },
 "nbformat": 4,
 "nbformat_minor": 5
}
