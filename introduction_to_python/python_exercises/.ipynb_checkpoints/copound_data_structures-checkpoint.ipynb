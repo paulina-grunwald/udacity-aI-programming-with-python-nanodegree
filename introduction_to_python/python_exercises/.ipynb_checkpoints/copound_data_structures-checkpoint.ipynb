{
 "cells": [
  {
   "cell_type": "code",
   "execution_count": 1,
   "id": "4f7f7fb0-871c-46f7-b64b-e90af2671bfa",
   "metadata": {},
   "outputs": [],
   "source": [
    "#Compound Data Structures - Dictionaries"
   ]
  },
  {
   "cell_type": "code",
   "execution_count": 2,
   "id": "80ac3829-591e-4e87-9eef-aefec6f75e65",
   "metadata": {},
   "outputs": [],
   "source": [
    "# Getting values of keys in dictionary\n",
    "dogs = {\n",
    "    \"Doberman\": {\n",
    "        \"average_weight\": \"32 to 45 kgs\",\n",
    "        \"life_span\": \"10 to 14 years\",\n",
    "        \"temperament\": \"Agile, Courageous, Loving, Intelligent, Energetic, Fearless, and Loyal\"\n",
    "    },\n",
    "    \"Poodle\": {\n",
    "        \"average_weight\": \"15 to 25 kgs\",\n",
    "        \"life_span\": \"12 to 15 years\",\n",
    "        \"temperament\": \"Intelligent, Active, Trainable, Instinctual, and Faithful\"\n",
    "    },\n",
    "    \"Beagle\": {\n",
    "        \"average_weight\": \"10 to 15 kgs\",\n",
    "        \"life_span\": \"12 to 15 years\",\n",
    "        \"temperament\": \"Energetic, Intelligent, Gentle, and Friendly\"\n",
    "    }\n",
    "}"
   ]
  },
  {
   "cell_type": "code",
   "execution_count": 3,
   "id": "72e3b138-c946-42f3-a490-d7748095501c",
   "metadata": {},
   "outputs": [
    {
     "name": "stdout",
     "output_type": "stream",
     "text": [
      "{'average_weight': '32 to 45 kgs', 'life_span': '10 to 14 years', 'temperament': 'Agile, Courageous, Loving, Intelligent, Energetic, Fearless, and Loyal'}\n"
     ]
    }
   ],
   "source": [
    "print(dogs[\"Doberman\"])"
   ]
  },
  {
   "cell_type": "code",
   "execution_count": 4,
   "id": "b3734b1f-caec-4e0e-b147-9014ab8ac43f",
   "metadata": {},
   "outputs": [
    {
     "name": "stdout",
     "output_type": "stream",
     "text": [
      "10 to 14 years\n"
     ]
    }
   ],
   "source": [
    "print(dogs[\"Doberman\"][\"life_span\"])"
   ]
  },
  {
   "cell_type": "code",
   "execution_count": 5,
   "id": "3ffd2397",
   "metadata": {},
   "outputs": [
    {
     "name": "stdout",
     "output_type": "stream",
     "text": [
      "Energetic, Intelligent, Gentle, and Friendly\n"
     ]
    }
   ],
   "source": [
    "print(dogs[\"Beagle\"][\"temperament\"])"
   ]
  },
  {
   "cell_type": "code",
   "execution_count": 6,
   "id": "8811c817-df6e-440f-a6be-b4c9b2343708",
   "metadata": {},
   "outputs": [
    {
     "name": "stdout",
     "output_type": "stream",
     "text": [
      "False\n"
     ]
    }
   ],
   "source": [
    "elements = {'hydrogen': {'number': 1, 'weight': 1.00794, 'symbol': 'H'},\n",
    "            'helium': {'number': 2, 'weight': 4.002602, 'symbol': 'He'}}\n",
    "\n",
    "elements['hydrogen']['is_noble_gas']= False\n",
    "elements['helium']['is_noble_gas'] = True\n",
    "\n",
    "print(elements['hydrogen']['is_noble_gas'])"
   ]
  },
  {
   "cell_type": "code",
   "execution_count": 10,
   "id": "037f2bf0-b4f9-46fb-ada2-27754faebd83",
   "metadata": {},
   "outputs": [
    {
     "name": "stdout",
     "output_type": "stream",
     "text": [
      "['Poland', 'Romania', 'Hungary']\n",
      "Banana taste sweet\n"
     ]
    }
   ],
   "source": [
    "# adding new object to a dictionary\n",
    "\n",
    "fruits = {\n",
    "    'apple': {\n",
    "        'taste': 'sweet',\n",
    "        'color': 'red',\n",
    "        'country_of_origin': ['Poland', 'Romania']\n",
    "    }\n",
    "}\n",
    "\n",
    "\n",
    "fruits['apple']['country_of_origin'].append('Hungary')\n",
    "print(fruits['apple']['country_of_origin'])\n",
    "\n",
    "\n",
    "banana = {\n",
    "    'taste': 'sweet',\n",
    "    'color': 'yellow',\n",
    "    'country_of_origin': 'Equador'\n",
    "}\n",
    "\n",
    "fruits['banana'] = banana\n",
    "\n",
    "print('Banana taste:', fruits['banana']['taste'])"
   ]
  },
  {
   "cell_type": "code",
   "execution_count": 11,
   "id": "ae3b7a9e-fbb1-4254-9ffe-e55647167cc3",
   "metadata": {},
   "outputs": [
    {
     "name": "stdout",
     "output_type": "stream",
     "text": [
      "{'Germany': 'Berlin', 'England': 'London'}\n"
     ]
    }
   ],
   "source": [
    "# Removing key from dictionary\n",
    "country_capitals = {\n",
    "    \"Germany\": \"Berlin\",\n",
    "    \"Canada\": \"Ottawa\",\n",
    "    \"England\": \"London\"\n",
    "}\n",
    "\n",
    "country_capitals.pop(\"Canada\")\n",
    "\n",
    "print(country_capitals)"
   ]
  },
  {
   "cell_type": "code",
   "execution_count": 12,
   "id": "fdd8d2cd",
   "metadata": {},
   "outputs": [
    {
     "name": "stdout",
     "output_type": "stream",
     "text": [
      "Germany\n",
      "England\n",
      "Berlin\n",
      "London\n"
     ]
    }
   ],
   "source": [
    "# Iterating Through a Dictionary\n",
    "\n",
    "for country in country_capitals:\n",
    "    print(country)\n",
    "\n",
    "# Print all values\n",
    "for country in country_capitals:\n",
    "    print(country_capitals[country])"
   ]
  },
  {
   "cell_type": "code",
   "execution_count": 13,
   "id": "81833e24",
   "metadata": {},
   "outputs": [
    {
     "name": "stdout",
     "output_type": "stream",
     "text": [
      "2\n"
     ]
    }
   ],
   "source": [
    "# Finding Dictionary Length\n",
    "\n",
    "print(len(country_capitals))"
   ]
  },
  {
   "cell_type": "code",
   "execution_count": 14,
   "id": "82e91932",
   "metadata": {},
   "outputs": [
    {
     "name": "stdout",
     "output_type": "stream",
     "text": [
      "Germany is in the dictionary\n"
     ]
    }
   ],
   "source": [
    "# Checking if Key Exists\n",
    "if \"Germany\" in country_capitals:\n",
    "    print(\"Germany is in the dictionary\")"
   ]
  },
  {
   "cell_type": "code",
   "execution_count": 15,
   "id": "ac34a081",
   "metadata": {},
   "outputs": [
    {
     "name": "stdout",
     "output_type": "stream",
     "text": [
      "{'Germany': 'Berlin', 'England': 'London'}\n"
     ]
    }
   ],
   "source": [
    "# Copying a Dictionary\n",
    "new_dict = country_capitals.copy()\n",
    "print(new_dict)"
   ]
  },
  {
   "cell_type": "code",
   "execution_count": null,
   "id": "912f5b01",
   "metadata": {},
   "outputs": [],
   "source": []
  }
 ],
 "metadata": {
  "kernelspec": {
   "display_name": "Python 3 (ipykernel)",
   "language": "python",
   "name": "python3"
  },
  "language_info": {
   "codemirror_mode": {
    "name": "ipython",
    "version": 3
   },
   "file_extension": ".py",
   "mimetype": "text/x-python",
   "name": "python",
   "nbconvert_exporter": "python",
   "pygments_lexer": "ipython3",
   "version": "3.11.5"
  }
 },
 "nbformat": 4,
 "nbformat_minor": 5
}
