{
 "cells": [
  {
   "cell_type": "code",
   "execution_count": 20,
   "id": "d2147a76-7570-4fb2-8870-9f836c856ddf",
   "metadata": {},
   "outputs": [
    {
     "name": "stdout",
     "output_type": "stream",
     "text": [
      "5\n"
     ]
    }
   ],
   "source": [
    "# IMPORTS\n",
    "import math\n",
    "\n"
   ]
  },
  {
   "cell_type": "code",
   "execution_count": null,
   "id": "c6dfe5a3-3ac4-4bc7-aa9a-9e64990036d7",
   "metadata": {},
   "outputs": [],
   "source": [
    "x, y, z = 2, 3, 5\n",
    "\n",
    "print(z)"
   ]
  },
  {
   "cell_type": "code",
   "execution_count": 21,
   "id": "830080ff-cbc6-44ce-8f83-1fb072807cc7",
   "metadata": {},
   "outputs": [
    {
     "name": "stdout",
     "output_type": "stream",
     "text": [
      "Sum:  9\n",
      "Subtraction:  5\n",
      "Multiplication:  14\n",
      "Division:  3.5\n",
      "Floor Division:  3\n",
      "Modulo:  1\n",
      "Power:  49\n"
     ]
    }
   ],
   "source": [
    "a = 7\n",
    "b = 2\n",
    "\n",
    "# addition\n",
    "print ('Sum: ', a + b)  \n",
    "\n",
    "# subtraction\n",
    "print ('Subtraction: ', a - b)   \n",
    "\n",
    "# multiplication\n",
    "print ('Multiplication: ', a * b)  \n",
    "\n",
    "# division\n",
    "print ('Division: ', a / b) \n",
    "\n",
    "# floor division\n",
    "print ('Floor Division: ', a // b)\n",
    "\n",
    "# modulo\n",
    "print ('Modulo: ', a % b)  \n",
    "\n",
    "# a to the power b\n",
    "print ('Power: ', a ** b)   "
   ]
  },
  {
   "cell_type": "code",
   "execution_count": 26,
   "id": "b946eec1-9396-48a6-b1b0-539717623f41",
   "metadata": {},
   "outputs": [
    {
     "name": "stdout",
     "output_type": "stream",
     "text": [
      "15\n"
     ]
    }
   ],
   "source": [
    "## Assignment Operators\n",
    "\n",
    "# assign 10 to a\n",
    "a = 10\n",
    "\n",
    "# assign 5 to b\n",
    "b = 5 \n",
    "\n",
    "# assign the sum of a and b to a\n",
    "a += b      # a = a + b\n",
    "\n",
    "print(a)\n",
    "\n",
    "# Output: 15"
   ]
  },
  {
   "cell_type": "code",
   "execution_count": 27,
   "id": "17f21b14-dc38-4673-b6bd-626c93f04178",
   "metadata": {},
   "outputs": [
    {
     "name": "stdout",
     "output_type": "stream",
     "text": [
      "<class 'int'>\n",
      "<class 'float'>\n"
     ]
    },
    {
     "data": {
      "text/plain": [
       "True"
      ]
     },
     "execution_count": 27,
     "metadata": {},
     "output_type": "execute_result"
    }
   ],
   "source": [
    "### Integers and Floats\n",
    "x = int(4.7)   # x is now an integer 4\n",
    "print(type(x))\n",
    "\n",
    "y = float(4)   # y is now a float of 4.0\n",
    "print(type(y))\n",
    "\n",
    "math.isclose(0.1 + 0.1 + 0.1, 0.3)"
   ]
  },
  {
   "cell_type": "code",
   "execution_count": 24,
   "id": "72c1170f-bd78-482a-897b-eea0b5dc94d0",
   "metadata": {},
   "outputs": [
    {
     "name": "stdout",
     "output_type": "stream",
     "text": [
      "False\n"
     ]
    }
   ],
   "source": [
    "#Because the float, or approximation, for 0.1 is actually slightly more than 0.1, when we add several of \n",
    "#them together we can see the difference between the mathematically correct \n",
    "# answer and the one that Python creates.\n",
    "print(.1 + .1 + .1 == .3)"
   ]
  },
  {
   "cell_type": "code",
   "execution_count": null,
   "id": "4343c7f4-b13a-460d-8902-4d8fc2f108a9",
   "metadata": {},
   "outputs": [],
   "source": [
    "## STRINGS"
   ]
  },
  {
   "cell_type": "code",
   "execution_count": 28,
   "id": "b4edb768-a217-4ffd-a0c4-950cdab071f5",
   "metadata": {},
   "outputs": [
    {
     "name": "stdout",
     "output_type": "stream",
     "text": [
      "HelloHelloHelloHelloHello\n"
     ]
    }
   ],
   "source": [
    "word = \"Hello\"\n",
    "print(word * 5)"
   ]
  },
  {
   "cell_type": "code",
   "execution_count": 30,
   "id": "fbbc1052-994a-4245-8ef0-9e4dae959a5c",
   "metadata": {},
   "outputs": [
    {
     "name": "stdout",
     "output_type": "stream",
     "text": [
      "Simon's skateboard is in the garage.\n"
     ]
    }
   ],
   "source": [
    "this_string = 'Simon\\'s skateboard is in the garage.'\n",
    "print(this_string)"
   ]
  },
  {
   "cell_type": "code",
   "execution_count": 31,
   "id": "eb0444c8-8528-4e05-950b-f3f9ab8e4701",
   "metadata": {},
   "outputs": [
    {
     "name": "stdout",
     "output_type": "stream",
     "text": [
      "\"This is a quote itself\"\n",
      "Simon's skateboard is in the garage.\n"
     ]
    }
   ],
   "source": [
    "single_quote_string = '\"This is a quote itself\"'  \n",
    "double_quote_string = \"Simon's skateboard is in the garage.\"\n",
    "print(single_quote_string)  \n",
    "print(double_quote_string) "
   ]
  },
  {
   "cell_type": "code",
   "execution_count": 32,
   "id": "cfcfa52a-76c9-455b-bead-f94806ba5ba5",
   "metadata": {},
   "outputs": [
    {
     "name": "stdout",
     "output_type": "stream",
     "text": [
      "2.5\n"
     ]
    }
   ],
   "source": [
    "print(len(\"ababa\") / len(\"ab\"))"
   ]
  },
  {
   "cell_type": "code",
   "execution_count": 33,
   "id": "911db34c-b54e-4e4b-bf0c-f286b937d114",
   "metadata": {},
   "outputs": [
    {
     "name": "stdout",
     "output_type": "stream",
     "text": [
      "3415\n"
     ]
    }
   ],
   "source": [
    "coconut_count = \"34\"\n",
    "mango_count = \"15\"\n",
    "tropical_fruit_count = coconut_count + mango_count\n",
    "print(tropical_fruit_count)"
   ]
  },
  {
   "cell_type": "code",
   "execution_count": 35,
   "id": "cda57e67-b330-4164-a540-11a6ae18489d",
   "metadata": {},
   "outputs": [
    {
     "data": {
      "text/plain": [
       "3"
      ]
     },
     "execution_count": 35,
     "metadata": {},
     "output_type": "execute_result"
    }
   ],
   "source": [
    "len(\"835\")"
   ]
  },
  {
   "cell_type": "code",
   "execution_count": 37,
   "id": "0f4596ff-ac95-4065-8c43-f51898e7f7f5",
   "metadata": {},
   "outputs": [
    {
     "name": "stdout",
     "output_type": "stream",
     "text": [
      "05\n"
     ]
    }
   ],
   "source": [
    "print(\"0\" + \"5\")"
   ]
  },
  {
   "cell_type": "code",
   "execution_count": 38,
   "id": "b3eadf05-4d52-493d-9576-38e12277e3ea",
   "metadata": {},
   "outputs": [],
   "source": [
    "str_list = ['1', '2', '3', '4', '5']\n",
    "int_list = [int(i) for i in str_list]"
   ]
  },
  {
   "cell_type": "code",
   "execution_count": 45,
   "id": "60919160-5e4f-4f86-98ef-1bead1e4f16e",
   "metadata": {},
   "outputs": [
    {
     "name": "stdout",
     "output_type": "stream",
     "text": [
      "2\n"
     ]
    }
   ],
   "source": [
    "sample_string = \"this is my name\"\n",
    "print(sample_string.index(\"is\"))"
   ]
  },
  {
   "cell_type": "code",
   "execution_count": 47,
   "id": "817f0a0c-7c73-4597-a054-a037a1341df2",
   "metadata": {},
   "outputs": [
    {
     "name": "stdout",
     "output_type": "stream",
     "text": [
      "Mohammed has 27 balloons\n"
     ]
    }
   ],
   "source": [
    "print(\"Mohammed has {} balloons\".format(27))"
   ]
  },
  {
   "cell_type": "code",
   "execution_count": 48,
   "id": "1c003a0e-112f-472c-95e9-02dc9ec00612",
   "metadata": {},
   "outputs": [
    {
     "name": "stdout",
     "output_type": "stream",
     "text": [
      "Does your dog bite?\n"
     ]
    }
   ],
   "source": [
    "animal = \"dog\" \n",
    "action = \"bite\" \n",
    "print(\"Does your {} {}?\".format(animal, action)) "
   ]
  },
  {
   "cell_type": "code",
   "execution_count": 49,
   "id": "836bdd64-fee4-45c6-a451-37677c4e91c8",
   "metadata": {},
   "outputs": [
    {
     "name": "stdout",
     "output_type": "stream",
     "text": [
      "Hello, John\n"
     ]
    }
   ],
   "source": [
    "name = \"John\"\n",
    "print(f\"Hello, {name}\")"
   ]
  },
  {
   "cell_type": "code",
   "execution_count": 50,
   "id": "0a1c6125-cc89-428c-b2e4-5d9d36daf081",
   "metadata": {},
   "outputs": [
    {
     "name": "stdout",
     "output_type": "stream",
     "text": [
      "The sum of 5 and 3 is 8\n"
     ]
    }
   ],
   "source": [
    "a = 5\n",
    "b = 3\n",
    "print(f\"The sum of {a} and {b} is {a+b}\")"
   ]
  },
  {
   "cell_type": "code",
   "execution_count": 51,
   "id": "1783e5a4-36eb-4e0e-9d1c-cc6e1b723dac",
   "metadata": {},
   "outputs": [
    {
     "ename": "AttributeError",
     "evalue": "'float' object has no attribute 'islower'",
     "output_type": "error",
     "traceback": [
      "\u001b[0;31m---------------------------------------------------------------------------\u001b[0m",
      "\u001b[0;31mAttributeError\u001b[0m                            Traceback (most recent call last)",
      "Cell \u001b[0;32mIn[51], line 1\u001b[0m\n\u001b[0;32m----> 1\u001b[0m \u001b[38;5;28mprint\u001b[39m(\u001b[38;5;241;43m13.37\u001b[39;49m\u001b[38;5;241;43m.\u001b[39;49m\u001b[43mislower\u001b[49m())\n",
      "\u001b[0;31mAttributeError\u001b[0m: 'float' object has no attribute 'islower'"
     ]
    }
   ],
   "source": [
    "print(13.37.islower())"
   ]
  },
  {
   "cell_type": "code",
   "execution_count": null,
   "id": "26a41c2d-309e-4f7c-867a-0057f602c59a",
   "metadata": {},
   "outputs": [],
   "source": []
  }
 ],
 "metadata": {
  "kernelspec": {
   "display_name": "Python 3 (ipykernel)",
   "language": "python",
   "name": "python3"
  },
  "language_info": {
   "codemirror_mode": {
    "name": "ipython",
    "version": 3
   },
   "file_extension": ".py",
   "mimetype": "text/x-python",
   "name": "python",
   "nbconvert_exporter": "python",
   "pygments_lexer": "ipython3",
   "version": "3.12.1"
  }
 },
 "nbformat": 4,
 "nbformat_minor": 5
}
