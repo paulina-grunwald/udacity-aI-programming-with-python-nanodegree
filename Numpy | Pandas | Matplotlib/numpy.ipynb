{
 "cells": [
  {
   "cell_type": "markdown",
   "metadata": {},
   "source": [
    "Numpy "
   ]
  },
  {
   "cell_type": "code",
   "execution_count": 62,
   "metadata": {},
   "outputs": [
    {
     "name": "stdout",
     "output_type": "stream",
     "text": [
      "[1 2 3 4 5]\n",
      "int64\n",
      "int64\n",
      "array lenght (5,)\n"
     ]
    }
   ],
   "source": [
    "# Creating NumPu ndarrays and performing basic operations\n",
    "\n",
    "import numpy as np\n",
    "# Create a 1D array\n",
    "array_1d = np.array([1, 2, 3, 4, 5])\n",
    "# Print the array and its type\n",
    "print(array_1d)\n",
    "print(array_1d.dtype)\n",
    "# print the shape of the array\n",
    "print(x.dtype)\n",
    "print(\"array lenght\", array_1d.shape)"
   ]
  },
  {
   "cell_type": "code",
   "execution_count": 63,
   "metadata": {},
   "outputs": [
    {
     "name": "stdout",
     "output_type": "stream",
     "text": [
      "[[1 2 3]\n",
      " [4 5 6]]\n",
      "2D array shape: (2, 3)\n",
      "2D array dtype: int64\n"
     ]
    }
   ],
   "source": [
    "array_2d = np.array([[1, 2, 3], [4, 5, 6]])\n",
    "print(array_2d)\n",
    "print(\"2D array shape:\", array_2d.shape)\n",
    "print(\"2D array dtype:\", array_2d.dtype)\n"
   ]
  },
  {
   "cell_type": "code",
   "execution_count": 64,
   "metadata": {},
   "outputs": [
    {
     "name": "stdout",
     "output_type": "stream",
     "text": [
      "[1. 2. 3. 4. 5.]\n",
      "Float array dtype: float64\n"
     ]
    }
   ],
   "source": [
    "# You can assign a specific data type while creating the array\n",
    "array_float = np.array([1, 2, 3, 4, 5], dtype=np.float64)\n",
    "print(array_float)\n",
    "print(\"Float array dtype:\", array_float.dtype)\n"
   ]
  },
  {
   "cell_type": "code",
   "execution_count": 65,
   "metadata": {},
   "outputs": [
    {
     "name": "stdout",
     "output_type": "stream",
     "text": [
      "[1 2 3 4 5]\n"
     ]
    }
   ],
   "source": [
    "## Save the NumPy array to a File\n",
    "array = np.array([1, 2, 3, 4, 5])\n",
    "\n",
    "## We save x into the current directory as\n",
    "np.save('my_array', array)\n",
    "array_from_file = np.load('my_array.npy')\n",
    "print(array_from_file)"
   ]
  },
  {
   "cell_type": "code",
   "execution_count": 66,
   "metadata": {},
   "outputs": [
    {
     "name": "stdout",
     "output_type": "stream",
     "text": [
      "Zero Array:\n",
      " [[0. 0. 0. 0.]\n",
      " [0. 0. 0. 0.]\n",
      " [0. 0. 0. 0.]]\n",
      "Array of Ones:\n",
      " [[1. 1. 1.]\n",
      " [1. 1. 1.]]\n",
      "\n",
      "\n",
      "Size of the array: 12\n",
      "Shape of the array: (3, 4)\n",
      "Item size of the array: 8\n"
     ]
    }
   ],
   "source": [
    "# Using Built-in Functions to Create ndarrays\n",
    "# creates an ndarray full of zeros with the given shape\n",
    "zero_array = np.zeros((3, 4))\n",
    "print(\"Zero Array:\\n\", zero_array)\n",
    "array_of_ones = np.ones((2, 3))\n",
    "print(\"Array of Ones:\\n\", array_of_ones)\n",
    "print(\"\\n\")\n",
    "print(\"Size of the array:\", zero_array.size)\n",
    "print(\"Shape of the array:\", zero_array.shape)\n",
    "\n",
    "## the size in bytes of each element of the array. For example, an array of elements of type float64 has itemsize 8 (=64/8), while one of type complex32 has itemsize 4 (=32/8). It is equivalent to ndarray.dtype.itemsize.\n",
    "print(\"Item size of the array:\", zero_array.itemsize)"
   ]
  },
  {
   "cell_type": "code",
   "execution_count": 67,
   "metadata": {},
   "outputs": [
    {
     "name": "stdout",
     "output_type": "stream",
     "text": [
      "[ 10  20  30  40  50  60  70  80  90 100]\n"
     ]
    }
   ],
   "source": [
    "# Using a NumPy function, how would you create a one-dimensional NumPy array of the numbers from 10 to 100, counting by 10\n",
    "print(np.arange(10, 110, 10))\n",
    "\n"
   ]
  },
  {
   "cell_type": "code",
   "execution_count": 68,
   "metadata": {},
   "outputs": [
    {
     "name": "stdout",
     "output_type": "stream",
     "text": [
      "Identity Matrix:\n",
      " [[1. 0. 0. 0.]\n",
      " [0. 1. 0. 0.]\n",
      " [0. 0. 1. 0.]\n",
      " [0. 0. 0. 1.]]\n",
      "----------------------\n",
      "Diagonal Matrix:\n",
      " [[1 0 0 0]\n",
      " [0 2 0 0]\n",
      " [0 0 3 0]\n",
      " [0 0 0 4]]\n"
     ]
    }
   ],
   "source": [
    "# create identity matrix\n",
    "identity_matrix = np.eye(4)\n",
    "print(\"Identity Matrix:\\n\", identity_matrix)\n",
    "print(\"----------------------\")\n",
    "diag_matrix = np.diag([1, 2, 3, 4])\n",
    "print(\"Diagonal Matrix:\\n\", diag_matrix)"
   ]
  },
  {
   "cell_type": "code",
   "execution_count": 69,
   "metadata": {},
   "outputs": [
    {
     "name": "stdout",
     "output_type": "stream",
     "text": [
      "[1 2]\n",
      "[ 1  3  5  7  9 11 13 15 17 19]\n",
      "[0.   0.25 0.5  0.75 1.  ]\n",
      "[0.  0.2 0.4 0.6 0.8]\n"
     ]
    }
   ],
   "source": [
    "print(np.arange(1,3)) # numbers from 1 to 2\n",
    "print(np.arange(1,20,2)) # odd numbers from 1 to 20\n",
    "print(np.linspace(0,1,5))  # 5 values between 0 and 1 inclusive\n",
    "print(np.linspace(0,1,5,endpoint=False))  # 5 values between 0 and 1 exclusive of 1"
   ]
  },
  {
   "cell_type": "code",
   "execution_count": 72,
   "metadata": {},
   "outputs": [
    {
     "name": "stdout",
     "output_type": "stream",
     "text": [
      "Array: [ 0  1  2  3  4  5  6  7  8  9 10 11 12 13 14 15 16 17 18 19]\n",
      "Change dimensions of the array: [[ 0  1  2  3  4]\n",
      " [ 5  6  7  8  9]\n",
      " [10 11 12 13 14]\n",
      " [15 16 17 18 19]]\n"
     ]
    },
    {
     "data": {
      "text/plain": [
       "array([[ 0,  1,  2,  3,  4],\n",
       "       [ 5,  6,  7,  8,  9],\n",
       "       [10, 11, 12, 13, 14],\n",
       "       [15, 16, 17, 18, 19]])"
      ]
     },
     "execution_count": 72,
     "metadata": {},
     "output_type": "execute_result"
    }
   ],
   "source": [
    "array = np.arange(20)\n",
    "print(\"Array:\", array)\n",
    "print(\"Change dimensions of the array:\",np.reshape(array,(4,5)))\n",
    "\n",
    "#or combine in one step\n",
    "np.arange(20).reshape(4,5)\n"
   ]
  },
  {
   "cell_type": "markdown",
   "metadata": {},
   "source": [
    "# Exercise:\n",
    "Using the NumPy functions you learned about on the previous page, create a 4 x 4 ndarray that only contains consecutive even numbers from 2 to 32 (inclusive)."
   ]
  },
  {
   "cell_type": "code",
   "execution_count": 75,
   "metadata": {},
   "outputs": [
    {
     "name": "stdout",
     "output_type": "stream",
     "text": [
      "Nice work! You can view my solution below\n"
     ]
    }
   ],
   "source": [
    "import numpy as np\n",
    "\n",
    "# Replace None with appropriate code\n",
    "X = np.arange(2, 34, 2).reshape(4, 4)\n",
    "\n",
    "### Notebook grading\n",
    "solution = np.arange(2,34,2).reshape(4,4)\n",
    "\n",
    "if type(X) != np.ndarray:\n",
    "    print(\"`X` should be an ndarray\")\n",
    "elif np.array_equal(X, solution):\n",
    "    print(\"Nice work! You can view my solution below\")\n",
    "elif X.shape != solution.shape:\n",
    "    print(\"Your answer for `X` has a shape of {} but it should be 4 x 4\".format(X.shape))\n",
    "else:\n",
    "    print(\"Your answer for `X` has the right shape but incorrect values\")"
   ]
  },
  {
   "cell_type": "markdown",
   "metadata": {},
   "source": [
    "# Accessing, Deleting, and Inserting Elements Into ndarrays"
   ]
  },
  {
   "cell_type": "code",
   "execution_count": 77,
   "metadata": {},
   "outputs": [
    {
     "name": "stdout",
     "output_type": "stream",
     "text": [
      "First Element 1\n",
      "Last Element 6\n",
      "Slice array [2 3 4]\n"
     ]
    }
   ],
   "source": [
    "array = np.array([1,2,3,4,5,6])\n",
    "print(\"First Element\", array[0])\n",
    "print(\"Last Element\", array[-1])\n",
    "print(\"Slice array\", array[1:4])  # elements from index 1 to 3"
   ]
  },
  {
   "cell_type": "markdown",
   "metadata": {},
   "source": [
    "# References:\n",
    "- https://codesolid.com/numpy-practice-questions-to-make-you-an-expert/"
   ]
  },
  {
   "cell_type": "markdown",
   "metadata": {},
   "source": [
    "# Slicing ndarrays"
   ]
  },
  {
   "cell_type": "code",
   "execution_count": null,
   "metadata": {},
   "outputs": [
    {
     "name": "stdout",
     "output_type": "stream",
     "text": [
      "[ 2  4  6  8 10]\n",
      "Array: [[ 1  2  3  4  5]\n",
      " [ 6  7  8  9 10]\n",
      " [11 12 13 14 15]\n",
      " [16 17 18 19 20]]\n",
      "Get element at row 2, column 3\n",
      "[[ 8  9 10]\n",
      " [13 14 15]\n",
      " [18 19 20]]\n",
      "[[ 8  9 10]\n",
      " [13 14 15]\n",
      " [18 19 20]]\n"
     ]
    }
   ],
   "source": [
    "array = np.arange(1, 13)\n",
    "print(array[1:10:2])  # elements from index 1 to 9 with a step of 2\n",
    "\n",
    "\n",
    "array_1 = np.arange(1, 21).reshape(4, 5)\n",
    "print(\"Array:\", array_1)\n",
    "\n",
    "print(\"Get element at row 2, column 3:\")  # element at row index 2\n",
    "print(array_1[1:4, 2:5])\n",
    "print(array_1[1:, 2:]) # rows from index 1 to end and columns from index 2 to end\n"
   ]
  },
  {
   "cell_type": "code",
   "execution_count": 85,
   "metadata": {},
   "outputs": [
    {
     "name": "stdout",
     "output_type": "stream",
     "text": [
      "Original Array: [1 2 3 4 5]\n",
      "Copied Array: [1 2 3 4 5]\n",
      "Sliced Array: [2 3 4]\n"
     ]
    }
   ],
   "source": [
    "# copy array\n",
    "original_array = np.array([1, 2, 3, 4, 5])\n",
    "copied_array = original_array.copy()\n",
    "\n",
    "# slicing array\n",
    "sliced_array = original_array[1:4]\n",
    "print(\"Original Array:\", original_array)\n",
    "print(\"Copied Array:\", copied_array)\n",
    "print(\"Sliced Array:\", sliced_array)"
   ]
  },
  {
   "cell_type": "code",
   "execution_count": 87,
   "metadata": {},
   "outputs": [
    {
     "name": "stdout",
     "output_type": "stream",
     "text": [
      "Filtered Array (elements > 25): [30 35 40]\n",
      "Array after assignment: [-1 -1 20 25 30 35 40]\n"
     ]
    }
   ],
   "source": [
    "# Boolean Indexing, Set Operations, and Sorting\n",
    "array = np.array([10, 15, 20, 25, 30, 35, 40])\n",
    "# Boolean indexing to filter elements greater than 25\n",
    "filtered_array = array[array > 25]\n",
    "print(\"Filtered Array (elements > 25):\", filtered_array)\n",
    "\n",
    "#assign values based on condition -1 <=15\n",
    "array[array <= 15] = -1\n",
    "print(\"Array after assignment:\", array)\n"
   ]
  },
  {
   "cell_type": "code",
   "execution_count": 89,
   "metadata": {},
   "outputs": [
    {
     "name": "stdout",
     "output_type": "stream",
     "text": [
      "Intersection: [4 5]\n",
      "Union: [1 2 3 4 5 6 7 8]\n",
      "Set Difference (array1 - array2): [1 2 3]\n"
     ]
    }
   ],
   "source": [
    "# interescrt and union\n",
    "array1 = np.array([1, 2, 3, 4, 5])\n",
    "array2 = np.array([4, 5, 6, 7, 8])\n",
    "intersection = np.intersect1d(array1, array2)\n",
    "print(\"Intersection:\", intersection)\n",
    "union = np.union1d(array1, array2)\n",
    "print(\"Union:\", union)\n",
    "set_diff = np.setdiff1d(array1, array2)\n",
    "print(\"Set Difference (array1 - array2):\", set_diff)"
   ]
  },
  {
   "cell_type": "code",
   "execution_count": 93,
   "metadata": {},
   "outputs": [
    {
     "name": "stdout",
     "output_type": "stream",
     "text": [
      "Original X = \n",
      " [[ 5  6  4  8 10]\n",
      " [10  7  1  6  8]\n",
      " [ 8  6  3  2  4]\n",
      " [ 5  3 10  1  1]\n",
      " [ 1 10  7  3  5]]\n",
      "\n",
      "X with sorted columns :\n",
      " [[ 1  3  1  1  1]\n",
      " [ 5  6  3  2  4]\n",
      " [ 5  6  4  3  5]\n",
      " [ 8  7  7  6  8]\n",
      " [10 10 10  8 10]]\n",
      "\n",
      "X with sorted rows :\n",
      " [[ 4  5  6  8 10]\n",
      " [ 1  6  7  8 10]\n",
      " [ 2  3  4  6  8]\n",
      " [ 1  1  3  5 10]\n",
      " [ 1  3  5  7 10]]\n"
     ]
    }
   ],
   "source": [
    "X = np.random.randint(1,11,size=(5,5))\n",
    "\n",
    "print('Original X = \\n', X)\n",
    "\n",
    "\n",
    "# We sort the columns of X and print the sorted array\n",
    "print()\n",
    "print('X with sorted columns :\\n', np.sort(X, axis = 0))\n",
    "\n",
    "# We sort the rows of X and print the sorted array\n",
    "print()\n",
    "print('X with sorted rows :\\n', np.sort(X, axis = 1))"
   ]
  },
  {
   "cell_type": "code",
   "execution_count": null,
   "metadata": {},
   "outputs": [
    {
     "name": "stdout",
     "output_type": "stream",
     "text": [
      "Sum of arrays: [5 7 9]\n",
      "Square root of array_a: [1.         1.41421356 1.73205081]\n",
      "Exponential of array_b: [ 54.59815003 148.4131591  403.42879349]\n",
      "Mean of array_a: 2.0\n",
      "Median 2.0\n",
      "Min 1\n",
      "Max 6\n"
     ]
    }
   ],
   "source": [
    "# Arithmetic operations and Broadcasting\n",
    "array_a = np.array([1, 2, 3])\n",
    "array_b = np.array([4, 5, 6])\n",
    "# Element-wise addition\n",
    "sum_array = array_a + array_b\n",
    "print(\"Sum of arrays:\", sum_array)\n",
    "\n",
    "# Get square root of each element of array_a\n",
    "sqrt_array = np.sqrt(array_a)\n",
    "print(\"Square root of array_a:\", sqrt_array)\n",
    "\n",
    "# Get exponential of each element of array_b\n",
    "exp_array = np.exp(array_b)\n",
    "print(\"Exponential of array_b:\", exp_array)\n",
    "\n",
    "# Get average of elements in array_a\n",
    "mean_value = np.mean(array_a, axis=0)\n",
    "print(\"Mean of array_a:\", mean_value)\n",
    "\n",
    "#Median, min, max\n",
    "print(\"Median\", np.median(array_a))\n",
    "print(\"Min\", np.min(array_a))\n",
    "print(\"Max\", np.max(array_b))"
   ]
  },
  {
   "cell_type": "code",
   "execution_count": null,
   "metadata": {},
   "outputs": [],
   "source": [
    "#Use Broadcasting to create a 4 x 4 ndarray that has its first column full of `1`s, its second column full of `2`s, its third column full of `3`s, etc..\n",
    "B = np.arange(1,5)\n",
    "print(V)"
   ]
  },
  {
   "cell_type": "markdown",
   "metadata": {},
   "source": [
    "# Resources:\n",
    "- [Broadcasting](https://numpy.org/devdocs/user/basics.broadcasting.html)\n",
    "- [Mathematical functions](https://numpy.org/devdocs/reference/routines.math.html#mathematical-functions)\n"
   ]
  }
 ],
 "metadata": {
  "kernelspec": {
   "display_name": "Python 3",
   "language": "python",
   "name": "python3"
  },
  "language_info": {
   "codemirror_mode": {
    "name": "ipython",
    "version": 3
   },
   "file_extension": ".py",
   "mimetype": "text/x-python",
   "name": "python",
   "nbconvert_exporter": "python",
   "pygments_lexer": "ipython3",
   "version": "3.11.13"
  }
 },
 "nbformat": 4,
 "nbformat_minor": 4
}
