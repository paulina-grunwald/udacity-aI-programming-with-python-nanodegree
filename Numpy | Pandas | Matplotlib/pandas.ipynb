{
 "cells": [
  {
   "cell_type": "markdown",
   "id": "7b160996",
   "metadata": {},
   "source": [
    "# Pandas"
   ]
  },
  {
   "cell_type": "code",
   "execution_count": 4,
   "id": "f4b3746f",
   "metadata": {},
   "outputs": [
    {
     "name": "stdout",
     "output_type": "stream",
     "text": [
      "Requirement already satisfied: pandas in /Users/paulina/Projects/Python/udacity-aI-programming-with-python-nanodegree/.venv/lib/python3.13/site-packages (2.3.3)\n",
      "Requirement already satisfied: numpy in /Users/paulina/Projects/Python/udacity-aI-programming-with-python-nanodegree/.venv/lib/python3.13/site-packages (2.3.4)\n",
      "Requirement already satisfied: matplotlib in /Users/paulina/Projects/Python/udacity-aI-programming-with-python-nanodegree/.venv/lib/python3.13/site-packages (3.10.7)\n",
      "Requirement already satisfied: python-dateutil>=2.8.2 in /Users/paulina/Projects/Python/udacity-aI-programming-with-python-nanodegree/.venv/lib/python3.13/site-packages (from pandas) (2.9.0.post0)\n",
      "Requirement already satisfied: pytz>=2020.1 in /Users/paulina/Projects/Python/udacity-aI-programming-with-python-nanodegree/.venv/lib/python3.13/site-packages (from pandas) (2025.2)\n",
      "Requirement already satisfied: tzdata>=2022.7 in /Users/paulina/Projects/Python/udacity-aI-programming-with-python-nanodegree/.venv/lib/python3.13/site-packages (from pandas) (2025.2)\n",
      "Requirement already satisfied: contourpy>=1.0.1 in /Users/paulina/Projects/Python/udacity-aI-programming-with-python-nanodegree/.venv/lib/python3.13/site-packages (from matplotlib) (1.3.3)\n",
      "Requirement already satisfied: cycler>=0.10 in /Users/paulina/Projects/Python/udacity-aI-programming-with-python-nanodegree/.venv/lib/python3.13/site-packages (from matplotlib) (0.12.1)\n",
      "Requirement already satisfied: fonttools>=4.22.0 in /Users/paulina/Projects/Python/udacity-aI-programming-with-python-nanodegree/.venv/lib/python3.13/site-packages (from matplotlib) (4.60.1)\n",
      "Requirement already satisfied: kiwisolver>=1.3.1 in /Users/paulina/Projects/Python/udacity-aI-programming-with-python-nanodegree/.venv/lib/python3.13/site-packages (from matplotlib) (1.4.9)\n",
      "Requirement already satisfied: packaging>=20.0 in /Users/paulina/Projects/Python/udacity-aI-programming-with-python-nanodegree/.venv/lib/python3.13/site-packages (from matplotlib) (25.0)\n",
      "Requirement already satisfied: pillow>=8 in /Users/paulina/Projects/Python/udacity-aI-programming-with-python-nanodegree/.venv/lib/python3.13/site-packages (from matplotlib) (12.0.0)\n",
      "Requirement already satisfied: pyparsing>=3 in /Users/paulina/Projects/Python/udacity-aI-programming-with-python-nanodegree/.venv/lib/python3.13/site-packages (from matplotlib) (3.2.5)\n",
      "Requirement already satisfied: six>=1.5 in /Users/paulina/Projects/Python/udacity-aI-programming-with-python-nanodegree/.venv/lib/python3.13/site-packages (from python-dateutil>=2.8.2->pandas) (1.17.0)\n"
     ]
    }
   ],
   "source": [
    "!pip install pandas numpy matplotlib\n",
    "import pandas as pd\n",
    "import numpy as np"
   ]
  },
  {
   "cell_type": "code",
   "execution_count": 13,
   "id": "19d69e1e",
   "metadata": {},
   "outputs": [
    {
     "name": "stdout",
     "output_type": "stream",
     "text": [
      "Groceries Series: apples     30\n",
      "bananas     6\n",
      "oranges     9\n",
      "pears      15\n",
      "dtype: int64\n",
      "Size: 4\n",
      "Index: Index(['apples', 'bananas', 'oranges', 'pears'], dtype='object')\n",
      "Values: [30  6  9 15]\n",
      "Dimensions: 1\n",
      "Does groceries include bread: False\n"
     ]
    }
   ],
   "source": [
    "groceries = pd.Series(data=[30, 6, 9, 15], index=['apples', 'bananas', 'oranges', 'pears'])\n",
    "print(\"Groceries Series:\", groceries)\n",
    "print(\"Size:\", groceries.size)\n",
    "print(\"Index:\", groceries.index)\n",
    "print(\"Values:\", groceries.values)\n",
    "print(\"Dimensions:\", groceries.ndim)\n",
    "\n",
    "print(\"Does groceries include bread:\", \"bread\" in groceries)"
   ]
  },
  {
   "cell_type": "code",
   "execution_count": 16,
   "id": "36004c41",
   "metadata": {},
   "outputs": [
    {
     "name": "stdout",
     "output_type": "stream",
     "text": [
      "Apples: 30\n",
      "First item: 30\n",
      "Last two items:\n",
      " oranges     9\n",
      "pears      15\n",
      "dtype: int64\n"
     ]
    },
    {
     "name": "stderr",
     "output_type": "stream",
     "text": [
      "/var/folders/6y/dfhtjwgj12xftndfzdj06vqh0000gn/T/ipykernel_26569/1312416808.py:2: FutureWarning: Series.__getitem__ treating keys as positions is deprecated. In a future version, integer keys will always be treated as labels (consistent with DataFrame behavior). To access a value by position, use `ser.iloc[pos]`\n",
      "  print(\"First item:\", groceries[0])\n"
     ]
    }
   ],
   "source": [
    "print(\"Apples:\", groceries['apples'])\n",
    "print(\"First item:\", groceries[0])\n",
    "print(\"Last two items:\\n\", groceries[-2:])"
   ]
  },
  {
   "cell_type": "code",
   "execution_count": 17,
   "id": "6a9a0c59",
   "metadata": {},
   "outputs": [
    {
     "name": "stdout",
     "output_type": "stream",
     "text": [
      "Using loc to get bananas: 6\n",
      "Using iloc to get bananas: 6\n"
     ]
    }
   ],
   "source": [
    "# loc vs iloc\n",
    "print(\"Using loc to get bananas:\", groceries.loc['bananas'])\n",
    "print(\"Using iloc to get bananas:\", groceries.iloc[1])"
   ]
  },
  {
   "cell_type": "code",
   "execution_count": 18,
   "id": "66bdda5e",
   "metadata": {},
   "outputs": [
    {
     "name": "stdout",
     "output_type": "stream",
     "text": [
      "Updated groceries:\n",
      " apples     30\n",
      "bananas    12\n",
      "oranges     9\n",
      "pears      15\n",
      "dtype: int64\n"
     ]
    }
   ],
   "source": [
    "groceries['bananas'] = 12\n",
    "print(\"Updated groceries:\\n\", groceries)"
   ]
  },
  {
   "cell_type": "code",
   "execution_count": 20,
   "id": "4e15bb21",
   "metadata": {},
   "outputs": [
    {
     "name": "stdout",
     "output_type": "stream",
     "text": [
      "Groceries after dropping oranges:\n",
      " apples     30\n",
      "bananas    12\n",
      "pears      15\n",
      "dtype: int64\n"
     ]
    }
   ],
   "source": [
    "# drop item\n",
    "groceries_dropped = groceries.drop('oranges')\n",
    "print(\"Groceries after dropping oranges:\\n\", groceries_dropped)\n"
   ]
  },
  {
   "cell_type": "code",
   "execution_count": 26,
   "id": "cbcf689b",
   "metadata": {},
   "outputs": [
    {
     "name": "stdout",
     "output_type": "stream",
     "text": [
      "Add 2 to each item in vegetables:\n",
      " carrots      6\n",
      "broccoli    10\n",
      "spinach     14\n",
      "potatoes    18\n",
      "dtype: int64\n"
     ]
    }
   ],
   "source": [
    "# Arithmetic Operations on Pandas Series\n",
    "\n",
    "vegetables = pd.Series(data=[4, 8, 12, 16], index=['carrots', 'broccoli', 'spinach', 'potatoes'])\n",
    "fruits = pd.Series(data=[5, 10, 15, 20], index=['apples', 'bananas', 'oranges', 'pears'])\n",
    "\n",
    "print(\"Add 2 to each item in vegetables:\\n\",vegetables + 2)\n"
   ]
  },
  {
   "cell_type": "markdown",
   "id": "534b8c8a",
   "metadata": {},
   "source": [
    "# References:\n",
    "\n",
    "- [Panda docs](https://pandas.pydata.org/pandas-docs/stable/)\n",
    "- [Reindexing and label manipulation](https://pandas.pydata.org/pandas-docs/stable/reference/series.html#reindexing-selection-label-manipulation)"
   ]
  }
 ],
 "metadata": {
  "kernelspec": {
   "display_name": ".venv",
   "language": "python",
   "name": "python3"
  },
  "language_info": {
   "codemirror_mode": {
    "name": "ipython",
    "version": 3
   },
   "file_extension": ".py",
   "mimetype": "text/x-python",
   "name": "python",
   "nbconvert_exporter": "python",
   "pygments_lexer": "ipython3",
   "version": "3.13.7"
  }
 },
 "nbformat": 4,
 "nbformat_minor": 5
}
