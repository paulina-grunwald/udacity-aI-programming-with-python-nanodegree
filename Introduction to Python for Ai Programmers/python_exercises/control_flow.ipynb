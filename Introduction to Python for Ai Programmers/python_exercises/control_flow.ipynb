{
 "cells": [
  {
   "cell_type": "code",
   "execution_count": 3,
   "id": "caf9422c-87b2-4a55-a632-2fa2092b80f9",
   "metadata": {},
   "outputs": [
    {
     "name": "stdout",
     "output_type": "stream",
     "text": [
      "10\n"
     ]
    }
   ],
   "source": [
    "x=4\n",
    "y=7\n",
    "z=0\n",
    "if x<y:\n",
    "    z+=10\n",
    "print(z)"
   ]
  },
  {
   "cell_type": "code",
   "execution_count": 4,
   "id": "b5dcf123-7bb2-4f91-bbee-1d4907346675",
   "metadata": {},
   "outputs": [
    {
     "name": "stdout",
     "output_type": "stream",
     "text": [
      "Congratulations! You won a wafer-thin mint!\n"
     ]
    }
   ],
   "source": [
    "points = 174  # use this input to make your submission\n",
    "prize = \"\"\n",
    "\n",
    "# write your if statement here\n",
    "if points  >=1 and points <=51:\n",
    "    prize = \"wooden rabbit\"\n",
    "elif points >= 51 and points <=150:\n",
    "    prize = \"no prize\"\n",
    "elif points >= 151 and points <=180:\n",
    "    prize=\"wafer-thin mint\"\n",
    "else:\n",
    "    prize=\"penguin\"\n",
    "\n",
    "result = \"Congratulations! You won a {}!\".format(prize)\n",
    "print(result)"
   ]
  },
  {
   "cell_type": "code",
   "execution_count": 1,
   "id": "3e1b13c3-fd85-4af4-8e9e-73624b7d7e7b",
   "metadata": {},
   "outputs": [
    {
     "name": "stdout",
     "output_type": "stream",
     "text": [
      "The weather is cold and rainy!\n"
     ]
    }
   ],
   "source": [
    "#### Boolean Expressions for Conditions ####\n",
    "\n",
    "temperature = 15\n",
    "is_raining = True\n",
    "\n",
    "if temperature <=15 and is_raining:\n",
    "    print(\"The weather is cold and rainy!\")\n",
    "elif temperature <=15 and not is_raining:\n",
    "    print(\"The weather is cold but it does not rain!\")"
   ]
  },
  {
   "cell_type": "code",
   "execution_count": 9,
   "id": "3b3f2a94-a9ce-4918-9045-3dc86758efbc",
   "metadata": {},
   "outputs": [
    {
     "name": "stdout",
     "output_type": "stream",
     "text": [
      "True\n",
      "False\n"
     ]
    }
   ],
   "source": [
    "#Truth Value Testing\n",
    "print(True is True)\n",
    "print([] is False)"
   ]
  },
  {
   "cell_type": "code",
   "execution_count": 15,
   "id": "7b8a5c0c-81dd-4bcf-a647-d2bb47245291",
   "metadata": {},
   "outputs": [],
   "source": [
    "#### Zip and Enumerate #####"
   ]
  },
  {
   "cell_type": "code",
   "execution_count": 16,
   "id": "19102127-d524-416e-b6f5-97747d44b25d",
   "metadata": {},
   "outputs": [
    {
     "name": "stdout",
     "output_type": "stream",
     "text": [
      "[('Anna', 20), ('Paulina', 30), ('Geroge', 35), ('Brian', 50), ('Mike', 60)]\n",
      "Anna - 20\n",
      "Paulina - 30\n",
      "Geroge - 35\n",
      "Brian - 50\n",
      "Mike - 60\n"
     ]
    }
   ],
   "source": [
    "# zip returns an iterator that combines multiple iterables into one sequence of tuples. Each tuple contans the elements in that position from all the iterables.\n",
    "names = ['Anna', 'Paulina', 'Geroge', 'Brian', 'Mike']\n",
    "ages = [20, 30, 35, 50, 60]\n",
    "print(list(zip(names, ages)))\n",
    "\n",
    "for group in zip(names,ages):\n",
    "    print(group[0], \"-\", group[1])"
   ]
  },
  {
   "cell_type": "code",
   "execution_count": 14,
   "id": "fd232bf3-bf91-48c4-8ab1-0992ad9232b8",
   "metadata": {},
   "outputs": [
    {
     "name": "stdout",
     "output_type": "stream",
     "text": [
      "0 car\n",
      "1 book\n",
      "2 dog\n"
     ]
    }
   ],
   "source": [
    "items = ['car', 'book', 'dog']\n",
    "for i, item in enumerate(items):\n",
    "    print(i,item)"
   ]
  },
  {
   "cell_type": "code",
   "execution_count": 3,
   "id": "ae143cd6-0361-4479-b423-43b6991d0887",
   "metadata": {},
   "outputs": [
    {
     "name": "stdout",
     "output_type": "stream",
     "text": [
      "['Madrid', 'Warsaw']\n"
     ]
    }
   ],
   "source": [
    "#### List Comprehensions ####\n",
    "cities = [\"madrid\", \"warsaw\"]\n",
    "capitalized_cities = []\n",
    "for city in cities:\n",
    "    capitalized_cities.append(city.title())\n",
    "\n",
    "### or can be written as\n",
    "# The title() method is used to capitalize the first letter of each word in the city name, w\n",
    "capitalized_cities = [city.title() for city in cities]\n",
    "\n",
    "print(capitalized_cities)"
   ]
  },
  {
   "cell_type": "code",
   "execution_count": 4,
   "id": "5d58d65c-75fa-4b83-ac73-69f81ba1f749",
   "metadata": {},
   "outputs": [
    {
     "name": "stdout",
     "output_type": "stream",
     "text": [
      "[0, 4, 16, 36, 64]\n"
     ]
    }
   ],
   "source": [
    "squares = [x**2 for x in range(9) if x % 2 == 0]\n",
    "print(squares)"
   ]
  },
  {
   "cell_type": "code",
   "execution_count": null,
   "id": "26e0c48a-3e24-488b-bce2-58c83fdede52",
   "metadata": {},
   "outputs": [],
   "source": []
  }
 ],
 "metadata": {
  "kernelspec": {
   "display_name": "Python 3 (ipykernel)",
   "language": "python",
   "name": "python3"
  },
  "language_info": {
   "codemirror_mode": {
    "name": "ipython",
    "version": 3
   },
   "file_extension": ".py",
   "mimetype": "text/x-python",
   "name": "python",
   "nbconvert_exporter": "python",
   "pygments_lexer": "ipython3",
   "version": "3.11.5"
  }
 },
 "nbformat": 4,
 "nbformat_minor": 5
}
